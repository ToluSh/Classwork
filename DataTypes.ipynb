{
  "nbformat": 4,
  "nbformat_minor": 0,
  "metadata": {
    "colab": {
      "provenance": [],
      "authorship_tag": "ABX9TyPjnOWsJHzcvvDfdXse/ccs",
      "include_colab_link": true
    },
    "kernelspec": {
      "name": "python3",
      "display_name": "Python 3"
    },
    "language_info": {
      "name": "python"
    }
  },
  "cells": [
    {
      "cell_type": "markdown",
      "metadata": {
        "id": "view-in-github",
        "colab_type": "text"
      },
      "source": [
        "<a href=\"https://colab.research.google.com/github/ToluSh/Classwork/blob/main/DataTypes.ipynb\" target=\"_parent\"><img src=\"https://colab.research.google.com/assets/colab-badge.svg\" alt=\"Open In Colab\"/></a>"
      ]
    },
    {
      "cell_type": "code",
      "source": [
        "Sample_list = [2, 3, 6]\n",
        "i = 1\n",
        "for j in Sample_list:\n",
        "    i = i * j\n",
        "print(i)"
      ],
      "metadata": {
        "colab": {
          "base_uri": "https://localhost:8080/"
        },
        "id": "xCW0IoBTT3R7",
        "outputId": "d09743b7-8b08-4cb7-8dd3-8799e1f79c66"
      },
      "execution_count": 1,
      "outputs": [
        {
          "output_type": "stream",
          "name": "stdout",
          "text": [
            "36\n"
          ]
        }
      ]
    },
    {
      "cell_type": "code",
      "source": [
        "import operator\n",
        " \n",
        "def sort_tuples(tuples, key):\n",
        "    return sorted(tuples, key=operator.itemgetter(key))\n",
        " \n",
        "tuples = [(2, 5), (1, 2), (4, 4), (2, 3), (2,1)]\n",
        "key = 1\n",
        "print(sort_tuples(tuples, key)) "
      ],
      "metadata": {
        "colab": {
          "base_uri": "https://localhost:8080/"
        },
        "id": "QyOA7O25ffKW",
        "outputId": "57c933ad-0721-4e95-ff88-fb2919b34a14"
      },
      "execution_count": 23,
      "outputs": [
        {
          "output_type": "stream",
          "name": "stdout",
          "text": [
            "[(2, 1), (1, 2), (2, 3), (4, 4), (2, 5)]\n"
          ]
        }
      ]
    },
    {
      "cell_type": "code",
      "source": [
        "import operator\n",
        " \n",
        "def sort_tuples(tuples, key):\n",
        "    return sorted(tuples, key=operator.itemgetter(key))\n",
        " \n",
        "tuples = [('item1', '12.20'), ('item3', '24.5'),('item2', '15.10')]\n",
        "key = 0\n",
        "print(sort_tuples(tuples, key)) "
      ],
      "metadata": {
        "colab": {
          "base_uri": "https://localhost:8080/"
        },
        "id": "0hwpeLW_vCUE",
        "outputId": "71033e84-4fb6-49e0-a7a7-0aa8388fbca0"
      },
      "execution_count": 89,
      "outputs": [
        {
          "output_type": "stream",
          "name": "stdout",
          "text": [
            "[('item1', '12.20'), ('item2', '15.10'), ('item3', '24.5')]\n"
          ]
        }
      ]
    },
    {
      "cell_type": "code",
      "source": [
        "d1 = {'a': 100, 'b': 200, 'c':300}\n",
        "d2 = {'a': 300, 'b': 200, 'd':400}\n",
        "\n",
        "for key in d2:\n",
        "    if key in d1:\n",
        "        d2[key] = d1[key] + d2[key]\n",
        "    else:\n",
        "          pass\n",
        "print(d2)"
      ],
      "metadata": {
        "colab": {
          "base_uri": "https://localhost:8080/"
        },
        "id": "U7Si3JmrgLeC",
        "outputId": "38c98a95-e9c4-488f-f1f0-75084ea7ed26"
      },
      "execution_count": 56,
      "outputs": [
        {
          "output_type": "stream",
          "name": "stdout",
          "text": [
            "{'a': 400, 'b': 400, 'd': 400}\n"
          ]
        }
      ]
    },
    {
      "cell_type": "code",
      "source": [
        "n = 8\n",
        "for i in range (1,n+1):\n",
        "    j = {i:i*i}\n",
        "    print(j)\n"
      ],
      "metadata": {
        "colab": {
          "base_uri": "https://localhost:8080/"
        },
        "id": "MctVuZRvpM7v",
        "outputId": "67f689d6-0b48-4e18-c645-e67bff24f63d"
      },
      "execution_count": 86,
      "outputs": [
        {
          "output_type": "stream",
          "name": "stdout",
          "text": [
            "{1: 1}\n",
            "{2: 4}\n",
            "{3: 9}\n",
            "{4: 16}\n",
            "{5: 25}\n",
            "{6: 36}\n",
            "{7: 49}\n",
            "{8: 64}\n"
          ]
        }
      ]
    },
    {
      "cell_type": "code",
      "source": [
        "n = 8\n",
        "for i in range (1,n+1):\n",
        "    z = {i}\n",
        "    print(z)"
      ],
      "metadata": {
        "colab": {
          "base_uri": "https://localhost:8080/"
        },
        "id": "f80WZctf15YI",
        "outputId": "94f1be85-cfa6-4e5e-e99e-679a104f5aa3"
      },
      "execution_count": 95,
      "outputs": [
        {
          "output_type": "stream",
          "name": "stdout",
          "text": [
            "{1}\n",
            "{2}\n",
            "{3}\n",
            "{4}\n",
            "{5}\n",
            "{6}\n",
            "{7}\n",
            "{8}\n"
          ]
        }
      ]
    }
  ]
}