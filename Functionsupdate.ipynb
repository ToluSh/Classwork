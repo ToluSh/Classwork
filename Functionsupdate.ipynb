{
  "nbformat": 4,
  "nbformat_minor": 0,
  "metadata": {
    "colab": {
      "provenance": [],
      "authorship_tag": "ABX9TyNVU9zkISnyin9BEuENP/27",
      "include_colab_link": true
    },
    "kernelspec": {
      "name": "python3",
      "display_name": "Python 3"
    },
    "language_info": {
      "name": "python"
    }
  },
  "cells": [
    {
      "cell_type": "markdown",
      "metadata": {
        "id": "view-in-github",
        "colab_type": "text"
      },
      "source": [
        "<a href=\"https://colab.research.google.com/github/ToluSh/Classwork/blob/main/Functionsupdate.ipynb\" target=\"_parent\"><img src=\"https://colab.research.google.com/assets/colab-badge.svg\" alt=\"Open In Colab\"/></a>"
      ]
    },
    {
      "cell_type": "code",
      "execution_count": null,
      "metadata": {
        "colab": {
          "base_uri": "https://localhost:8080/"
        },
        "id": "COWI0AdUVnk4",
        "outputId": "189b2974-00aa-4578-a97a-2c5a430db466"
      },
      "outputs": [
        {
          "output_type": "stream",
          "name": "stdout",
          "text": [
            "35\n"
          ]
        }
      ],
      "source": [
        "def max_number(a,b,c):\n",
        "    return max(a,b,c)\n",
        "print(max_number(20,35,19))"
      ]
    },
    {
      "cell_type": "code",
      "source": [
        "def calculation(a,b):\n",
        "    x =lambda a,b: a+b\n",
        "    y =lambda a,b: a-b\n",
        "    return x(a,b),y(a,b)\n",
        "print(calculation(40,10))\n"
      ],
      "metadata": {
        "colab": {
          "base_uri": "https://localhost:8080/"
        },
        "id": "Ttdi4d_wde8b",
        "outputId": "22cdd1d4-e6ca-444b-ded0-39661a01caaa"
      },
      "execution_count": null,
      "outputs": [
        {
          "output_type": "stream",
          "name": "stdout",
          "text": [
            "(50, 30)\n"
          ]
        }
      ]
    },
    {
      "cell_type": "code",
      "source": [
        "n = 8\n",
        "j= {}\n",
        "for i in range (1,n+1):\n",
        "    j[i] = i*i\n",
        "print(j)"
      ],
      "metadata": {
        "colab": {
          "base_uri": "https://localhost:8080/"
        },
        "id": "ih6dViNRyBVk",
        "outputId": "ea1c3568-8d48-4097-b158-04877a019641"
      },
      "execution_count": null,
      "outputs": [
        {
          "output_type": "stream",
          "name": "stdout",
          "text": [
            "{1: 1, 2: 4, 3: 9, 4: 16, 5: 25, 6: 36, 7: 49, 8: 64}\n"
          ]
        }
      ]
    },
    {
      "cell_type": "code",
      "source": [
        "import numpy\n",
        "\n",
        "def to_sum(m):\n",
        "    v = sum(m)\n",
        "    return v\n",
        "\n",
        "def to_mul(n):\n",
        "    y = numpy.prod(n)\n",
        "    return y\n",
        "\n",
        "z= [6,7,8,9]\n",
        "x= []\n",
        "j= []\n",
        "\n",
        "for i in range(len(z)):\n",
        "    if i % 2 == 0:\n",
        "        x.append(z[i]) \n",
        "    else:\n",
        "        j.append(z[i])\n",
        "\n",
        "print(to_sum(x), to_mul(j))   "
      ],
      "metadata": {
        "colab": {
          "base_uri": "https://localhost:8080/"
        },
        "id": "BUMlLC4eplMy",
        "outputId": "f249cfd1-7a9b-4932-d248-2fbd6d459fe1"
      },
      "execution_count": 5,
      "outputs": [
        {
          "output_type": "stream",
          "name": "stdout",
          "text": [
            "14 63\n"
          ]
        }
      ]
    },
    {
      "cell_type": "code",
      "source": [
        "thisdict = {\"a\": \"ford\",\"b\": \"toyota\",\"c\": \"peugeot\"}\n",
        "h = {}\n",
        "def dis_firstletter(thisdict):\n",
        "    o = thisdict.values()\n",
        "    for i in o:\n",
        "        h[i] = i.capitalize()\n",
        "    #v = o.capitalize()\n",
        "    return h.values()\n",
        "print(dis_firstletter(thisdict))"
      ],
      "metadata": {
        "colab": {
          "base_uri": "https://localhost:8080/"
        },
        "id": "gI4L1FheFXok",
        "outputId": "f871d4b1-a79b-44d3-8f98-6075dc52a99a"
      },
      "execution_count": null,
      "outputs": [
        {
          "output_type": "stream",
          "name": "stdout",
          "text": [
            "dict_values(['Ford', 'Toyota', 'Peugeot'])\n"
          ]
        }
      ]
    },
    {
      "cell_type": "code",
      "source": [
        "thatdict = {\"a\": \"ford\",\"b\": \"toyota\",\"c\": \"peugeot\"}\n",
        "\n",
        "def sec_firstletter(thatdict):\n",
        "    d = thatdict.values()\n",
        "    x = list(d)\n",
        "    for i in d:\n",
        "        r = max(x,key=len)\n",
        "    return r\n",
        "print(sec_firstletter(thatdict))"
      ],
      "metadata": {
        "colab": {
          "base_uri": "https://localhost:8080/"
        },
        "id": "9sCf-UCqJXrz",
        "outputId": "30e5af73-5bc8-4646-e2e8-c08c4ca2080c"
      },
      "execution_count": null,
      "outputs": [
        {
          "output_type": "stream",
          "name": "stdout",
          "text": [
            "peugeot\n"
          ]
        }
      ]
    },
    {
      "cell_type": "code",
      "source": [
        "colors = input()\n",
        "\n",
        "def sorted_colors(colors):\n",
        "    e = list(colors.split('-'))\n",
        "    i = sorted(e,key=None)\n",
        "    return '-'.join(i)\n",
        "print(sorted_colors(colors))"
      ],
      "metadata": {
        "colab": {
          "base_uri": "https://localhost:8080/"
        },
        "id": "NqZBdtQ_SGMi",
        "outputId": "e7adbfec-246d-4abf-c0d2-4fc203493fc5"
      },
      "execution_count": null,
      "outputs": [
        {
          "output_type": "stream",
          "name": "stdout",
          "text": [
            "green-blue-yellow-gray-orange\n",
            "blue-gray-green-orange-yellow\n"
          ]
        }
      ]
    },
    {
      "cell_type": "code",
      "source": [
        "import math\n",
        "\n",
        "def calc_prn():\n",
        "    c = 50\n",
        "    h = 30\n",
        "    mystring = \"\"\n",
        "    d = input()\n",
        "    s = d.split(',')\n",
        "    for i in s:\n",
        "        q = math.sqrt((2 * c * int(i))/h)\n",
        "        x = round(q)\n",
        "        mystring += str(x) +\",\"\n",
        "    return mystring[0:-1]\n",
        "print(calc_prn())"
      ],
      "metadata": {
        "colab": {
          "base_uri": "https://localhost:8080/"
        },
        "id": "sLL6I_MCS9sq",
        "outputId": "541a3650-e39c-4b00-e11f-b39d2bc19e66"
      },
      "execution_count": null,
      "outputs": [
        {
          "output_type": "stream",
          "name": "stdout",
          "text": [
            "100,150,180\n",
            "18,22,24\n"
          ]
        }
      ]
    }
  ]
}