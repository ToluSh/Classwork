{
  "nbformat": 4,
  "nbformat_minor": 0,
  "metadata": {
    "colab": {
      "provenance": [],
      "authorship_tag": "ABX9TyPPXvUrDO2FxW98HlZqrSeb",
      "include_colab_link": true
    },
    "kernelspec": {
      "name": "python3",
      "display_name": "Python 3"
    },
    "language_info": {
      "name": "python"
    }
  },
  "cells": [
    {
      "cell_type": "markdown",
      "metadata": {
        "id": "view-in-github",
        "colab_type": "text"
      },
      "source": [
        "<a href=\"https://colab.research.google.com/github/ToluSh/Classwork/blob/main/Class.ipynb\" target=\"_parent\"><img src=\"https://colab.research.google.com/assets/colab-badge.svg\" alt=\"Open In Colab\"/></a>"
      ]
    },
    {
      "cell_type": "code",
      "execution_count": 1,
      "metadata": {
        "colab": {
          "base_uri": "https://localhost:8080/"
        },
        "id": "wjdkrQF6lmY_",
        "outputId": "1f0f99b1-4e43-4472-f93b-fd1696e1f786"
      },
      "outputs": [
        {
          "output_type": "stream",
          "name": "stdout",
          "text": [
            "(1, 2, 3)\n"
          ]
        }
      ],
      "source": [
        "class Point3D(object):\n",
        "    def __init__ (self, x, y, z):\n",
        "        self.x = x\n",
        "        self.y = y\n",
        "        self.z = z\n",
        "    def retn_mtd(self):  \n",
        "        rtn = (self.x, self.y, self.z)\n",
        "        return rtn\n",
        "my_point = Point3D(1, 2, 3)\n",
        "my_point.retn_mtd()\n",
        "print (my_point.retn_mtd())"
      ]
    },
    {
      "cell_type": "code",
      "source": [
        "class Rectangle(object):\n",
        "    def __init__ (self, length, width):\n",
        "        self.length = length\n",
        "        self.width = width\n",
        "        \n",
        "    def det_area(self):  \n",
        "        area = self.length * self.width\n",
        "        return area\n",
        "\n",
        "    def det_pmt(self):  \n",
        "        perimeter = 2 * (self.length + self.width)\n",
        "        return perimeter\n",
        "\n",
        "my_rectangle = Rectangle(width = 3, length = 4)\n",
        "\n",
        "my_point.retn_mtd()\n",
        "print (\"the area is\", my_rectangle.det_area(), \"and the perimeter is\", my_rectangle.det_pmt())\n"
      ],
      "metadata": {
        "colab": {
          "base_uri": "https://localhost:8080/"
        },
        "id": "DcQf-DN2s2aW",
        "outputId": "338a7fe6-55bc-41f4-ae69-56d58deba387"
      },
      "execution_count": 2,
      "outputs": [
        {
          "output_type": "stream",
          "name": "stdout",
          "text": [
            "the area is 12 and the perimeter is 14\n"
          ]
        }
      ]
    },
    {
      "cell_type": "code",
      "source": [
        "class Circle(object):\n",
        "    center = 10\n",
        "    radius = 5\n",
        "    \n",
        "    def __init__ (self, o, r):\n",
        "        self.o = o\n",
        "        self.r = r\n",
        "        \n",
        "    def det_area(self):  \n",
        "        area = self.o * self.r\n",
        "        return area\n",
        "\n",
        "    def det_pmt(self):  \n",
        "        perimeter = 2 * 22/7 * self.r\n",
        "        return perimeter\n",
        "\n",
        "A = Circle(o = 3, r = 4)\n",
        "\n",
        "def inside():\n",
        "    if A.det_area(o, r) in Circle.det_area(center,radius):\n",
        "        return yes\n",
        "    else:\n",
        "        return no\n",
        "\n",
        "\n",
        "\n",
        "A.det_area()\n",
        "A.det_pmt()\n",
        "\n",
        "print (\"the area is\", A.det_area(), \"and the perimeter is\", A.det_pmt())\n"
      ],
      "metadata": {
        "colab": {
          "base_uri": "https://localhost:8080/"
        },
        "id": "DhJ201m11VhO",
        "outputId": "658f2c56-9701-40d0-d636-b5bd128ac365"
      },
      "execution_count": 3,
      "outputs": [
        {
          "output_type": "stream",
          "name": "stdout",
          "text": [
            "the area is 12 and the perimeter is 25.142857142857142\n"
          ]
        }
      ]
    },
    {
      "cell_type": "code",
      "source": [
        "class Bank(object):\n",
        "    def __init__ (self, balance):\n",
        "        self.balance = balance \n",
        "        \n",
        "    def det_deposit(self):  \n",
        "        deposit = self.balance + int(input()) #input new amount paid in by customer\n",
        "        return deposit\n",
        "\n",
        "    def det_wtd(self):  \n",
        "        withdrawal = self.balance - int(input()) #input amount paid out to customer\n",
        "        return withdrawal\n",
        "\n",
        "my_account = Bank(500)\n",
        "\n",
        "print (\"after depositing my new balance is\", my_account.det_deposit(), \"my balance after withdrawing is\", my_account.det_wtd())\n"
      ],
      "metadata": {
        "colab": {
          "base_uri": "https://localhost:8080/"
        },
        "id": "l_hiHo7F3iyL",
        "outputId": "caeea3bf-514c-48ab-8637-8981682a1768"
      },
      "execution_count": 6,
      "outputs": [
        {
          "output_type": "stream",
          "name": "stdout",
          "text": [
            "12\n",
            "23\n",
            "after depositing my new balance is 512 my balance after withdrawing is 477\n"
          ]
        }
      ]
    }
  ]
}