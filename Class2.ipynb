{
  "nbformat": 4,
  "nbformat_minor": 0,
  "metadata": {
    "colab": {
      "provenance": [],
      "authorship_tag": "ABX9TyNC+IbhvzO2p0S/b7QDZUK+",
      "include_colab_link": true
    },
    "kernelspec": {
      "name": "python3",
      "display_name": "Python 3"
    },
    "language_info": {
      "name": "python"
    }
  },
  "cells": [
    {
      "cell_type": "markdown",
      "metadata": {
        "id": "view-in-github",
        "colab_type": "text"
      },
      "source": [
        "<a href=\"https://colab.research.google.com/github/ToluSh/Classwork/blob/main/Class2.ipynb\" target=\"_parent\"><img src=\"https://colab.research.google.com/assets/colab-badge.svg\" alt=\"Open In Colab\"/></a>"
      ]
    },
    {
      "cell_type": "code",
      "execution_count": null,
      "metadata": {
        "colab": {
          "base_uri": "https://localhost:8080/"
        },
        "id": "wjdkrQF6lmY_",
        "outputId": "1f0f99b1-4e43-4472-f93b-fd1696e1f786"
      },
      "outputs": [
        {
          "output_type": "stream",
          "name": "stdout",
          "text": [
            "(1, 2, 3)\n"
          ]
        }
      ],
      "source": [
        "class Point3D(object):\n",
        "    def __init__ (self, x, y, z):\n",
        "        self.x = x\n",
        "        self.y = y\n",
        "        self.z = z\n",
        "    def retn_mtd(self):  \n",
        "        rtn = (self.x, self.y, self.z)\n",
        "        return rtn\n",
        "my_point = Point3D(1, 2, 3)\n",
        "my_point.retn_mtd()\n",
        "print (my_point.retn_mtd())"
      ]
    },
    {
      "cell_type": "code",
      "source": [
        "class Rectangle(object):\n",
        "    def __init__ (self, length, width):\n",
        "        self.length = length\n",
        "        self.width = width\n",
        "        \n",
        "    def det_area(self):  \n",
        "        area = self.length * self.width\n",
        "        return area\n",
        "\n",
        "    def det_pmt(self):  \n",
        "        perimeter = 2 * (self.length + self.width)\n",
        "        return perimeter\n",
        "\n",
        "my_rectangle = Rectangle(width = 3, length = 4)\n",
        "\n",
        "my_point.retn_mtd()\n",
        "print (\"the area is\", my_rectangle.det_area(), \"and the perimeter is\", my_rectangle.det_pmt())\n"
      ],
      "metadata": {
        "colab": {
          "base_uri": "https://localhost:8080/",
          "height": 217
        },
        "id": "DcQf-DN2s2aW",
        "outputId": "03f63fc8-5ae0-4594-9a8c-eb95e3542c5c"
      },
      "execution_count": 1,
      "outputs": [
        {
          "output_type": "error",
          "ename": "NameError",
          "evalue": "ignored",
          "traceback": [
            "\u001b[0;31m---------------------------------------------------------------------------\u001b[0m",
            "\u001b[0;31mNameError\u001b[0m                                 Traceback (most recent call last)",
            "\u001b[0;32m<ipython-input-1-bb55a638435d>\u001b[0m in \u001b[0;36m<module>\u001b[0;34m\u001b[0m\n\u001b[1;32m     14\u001b[0m \u001b[0mmy_rectangle\u001b[0m \u001b[0;34m=\u001b[0m \u001b[0mRectangle\u001b[0m\u001b[0;34m(\u001b[0m\u001b[0mwidth\u001b[0m \u001b[0;34m=\u001b[0m \u001b[0;36m3\u001b[0m\u001b[0;34m,\u001b[0m \u001b[0mlength\u001b[0m \u001b[0;34m=\u001b[0m \u001b[0;36m4\u001b[0m\u001b[0;34m)\u001b[0m\u001b[0;34m\u001b[0m\u001b[0;34m\u001b[0m\u001b[0m\n\u001b[1;32m     15\u001b[0m \u001b[0;34m\u001b[0m\u001b[0m\n\u001b[0;32m---> 16\u001b[0;31m \u001b[0mmy_point\u001b[0m\u001b[0;34m.\u001b[0m\u001b[0mretn_mtd\u001b[0m\u001b[0;34m(\u001b[0m\u001b[0;34m)\u001b[0m\u001b[0;34m\u001b[0m\u001b[0;34m\u001b[0m\u001b[0m\n\u001b[0m\u001b[1;32m     17\u001b[0m \u001b[0mprint\u001b[0m \u001b[0;34m(\u001b[0m\u001b[0;34m\"the area is\"\u001b[0m\u001b[0;34m,\u001b[0m \u001b[0mmy_rectangle\u001b[0m\u001b[0;34m.\u001b[0m\u001b[0mdet_area\u001b[0m\u001b[0;34m(\u001b[0m\u001b[0;34m)\u001b[0m\u001b[0;34m,\u001b[0m \u001b[0;34m\"and the perimeter is\"\u001b[0m\u001b[0;34m,\u001b[0m \u001b[0mmy_rectangle\u001b[0m\u001b[0;34m.\u001b[0m\u001b[0mdet_pmt\u001b[0m\u001b[0;34m(\u001b[0m\u001b[0;34m)\u001b[0m\u001b[0;34m)\u001b[0m\u001b[0;34m\u001b[0m\u001b[0;34m\u001b[0m\u001b[0m\n",
            "\u001b[0;31mNameError\u001b[0m: name 'my_point' is not defined"
          ]
        }
      ]
    },
    {
      "cell_type": "code",
      "source": [
        "import math\n",
        "\n",
        "class Circle(object):\n",
        "    center = (0,0)\n",
        "    radius = 5\n",
        "    \n",
        "    def __init__ (self, x, y, r):\n",
        "        self.x = x\n",
        "        self.y = y\n",
        "        self.r = r\n",
        "        \n",
        "    def det_area(self):  \n",
        "        area = 22/7 * self.r**2\n",
        "        return area\n",
        "\n",
        "    def det_pmt(self):  \n",
        "        perimeter = 2 * 22/7 * self.r\n",
        "        return perimeter\n",
        "\n",
        "    def inside(self):\n",
        "        d = math.sqrt((self.x - Circle.center[0])**2 + (self.y - Circle.center[1])**2)\n",
        "        if d > Circle.radius:\n",
        "            return \"the point is outside the circle\"\n",
        "        elif d < Circle.radius:\n",
        "            return \"the point is inside the circle\"\n",
        "        else:\n",
        "            return \"the point is on the circle\"\n",
        "\n",
        "A = Circle(5, 6, 7)               \n",
        "A.det_area()\n",
        "A.det_pmt()\n",
        "\n",
        "print(\"the area is\", A.det_area(), \"and the perimeter is\", A.det_pmt(), \"and\", A.inside())\n"
      ],
      "metadata": {
        "colab": {
          "base_uri": "https://localhost:8080/"
        },
        "id": "DhJ201m11VhO",
        "outputId": "610d1b58-6f25-4c36-85da-b431c9e3c940"
      },
      "execution_count": 11,
      "outputs": [
        {
          "output_type": "stream",
          "name": "stdout",
          "text": [
            "the area is 154.0 and the perimeter is 44.0 and the point is outside the circle\n"
          ]
        }
      ]
    },
    {
      "cell_type": "code",
      "source": [
        "class Bank(object):\n",
        "    def __init__ (self, balance):\n",
        "        self.balance = balance \n",
        "        \n",
        "    def det_deposit(self):  \n",
        "        deposit = self.balance + int(input()) #input new amount paid in by customer\n",
        "        return deposit\n",
        "\n",
        "    def det_wtd(self):  \n",
        "        withdrawal = self.balance - int(input()) #input amount paid out to customer\n",
        "        return withdrawal\n",
        "\n",
        "my_account = Bank(500)\n",
        "\n",
        "print (\"after depositing my new balance is\", my_account.det_deposit(), \"my balance after withdrawing is\", my_account.det_wtd())\n"
      ],
      "metadata": {
        "colab": {
          "base_uri": "https://localhost:8080/"
        },
        "id": "l_hiHo7F3iyL",
        "outputId": "caeea3bf-514c-48ab-8637-8981682a1768"
      },
      "execution_count": null,
      "outputs": [
        {
          "output_type": "stream",
          "name": "stdout",
          "text": [
            "12\n",
            "23\n",
            "after depositing my new balance is 512 my balance after withdrawing is 477\n"
          ]
        }
      ]
    }
  ]
}